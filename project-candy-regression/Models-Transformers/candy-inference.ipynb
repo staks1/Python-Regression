{
 "cells": [
  {
   "cell_type": "code",
   "execution_count": 9,
   "metadata": {},
   "outputs": [],
   "source": [
    "import pandas as pd\n",
    "import numpy as np\n",
    "import matplotlib.pyplot as plt \n",
    "from sklearn.feature_selection import SelectFromModel\n",
    "from sklearn.linear_model import Lasso,Ridge\n",
    "from sklearn.metrics import mean_squared_error,r2_score,confusion_matrix,ConfusionMatrixDisplay,roc_curve,RocCurveDisplay,auc,precision_recall_fscore_support,precision_score\n",
    "import joblib \n",
    "from sklearn.pipeline import Pipeline\n",
    "from sklearn.preprocessing import MinMaxScaler,Binarizer\n",
    "from sklearn.model_selection import train_test_split\n",
    "from sklearn.svm import LinearSVC\n",
    "from feature_engine.wrappers import SklearnTransformerWrapper as TransformerWrapper\n",
    "\n"
   ]
  },
  {
   "cell_type": "markdown",
   "metadata": {},
   "source": [
    "# New Candy Inference !\n",
    "Now that we have our pipeline stored with all it's parameters we can use our model to infer the class from newly fed data.\n",
    "For this we are going to use our stored newly created `infer-testx` and `infer-testy` csv files .\n"
   ]
  },
  {
   "cell_type": "code",
   "execution_count": 14,
   "metadata": {},
   "outputs": [
    {
     "name": "stdout",
     "output_type": "stream",
     "text": [
      "   fruity  caramel  peanutyalmondy  nougat  crispedricewafer  hard  bar  \\\n",
      "0       0        0               0       0                 0     0    0   \n",
      "1       1        0               0       0                 0     0    0   \n",
      "\n",
      "   pluribus  sugarpercent  pricepercent  winpercent  \n",
      "0         0         0.011         0.116   32.261086  \n",
      "1         1         0.197         0.976   22.445341  \n",
      "(7, 11)\n",
      "   chocolate\n",
      "0          0\n",
      "1          0\n",
      "(7, 1)\n"
     ]
    }
   ],
   "source": [
    "# load data \n",
    "test_x = pd.read_csv('../Datasets/infer-testx.csv')\n",
    "test_y = pd.read_csv('../Datasets/infer-testy.csv')\n",
    "\n",
    "\n",
    "print(test_x.head(2))\n",
    "print(test_x.shape)\n",
    "print(test_y.head(2))\n",
    "print(test_y.shape)"
   ]
  },
  {
   "cell_type": "markdown",
   "metadata": {},
   "source": [
    "Now since we have made the feature selection process part of our pipeline in this project , we do not need to do anything else !\n",
    "1. MinMaxScaler is being applied as part of our pipeline at step 1 \n",
    "2. FeatureSelection is being applied as part of our pipeline at step 2 \n",
    "3. ModelInference is being applied as part of our pipeline at step 3 \n",
    "\n",
    "The only thing remaining is load out pipeline class and score new data !"
   ]
  },
  {
   "cell_type": "code",
   "execution_count": 11,
   "metadata": {},
   "outputs": [],
   "source": [
    "our_pipeline = joblib.load('../Models-Transformers/chocolate-pipe.joblib')"
   ]
  },
  {
   "cell_type": "markdown",
   "metadata": {},
   "source": [
    "Since we don't really know what features our new dataset will include, it can have many NaN values in columns where our train dataset did not have. A simple solution (though not always correct) is to just pass the new dataset through our pipeline and our imputers will take care of this. On the other hand we do not know  if our newly fed datast has any outliers that the imputers have not taken into account. In essence, we do not know if the new data will follow the distribution of our train_data and arguably the simple imputation methods we applied will not be able to tackle every possible scenario, especially since our train dataset is so freakin small! \n",
    "\n",
    "For now we are going to move forward with our pipeline and pass the new `infer-testx` and `infer-testy` through our pipeline."
   ]
  },
  {
   "cell_type": "code",
   "execution_count": 12,
   "metadata": {},
   "outputs": [
    {
     "name": "stdout",
     "output_type": "stream",
     "text": [
      "recall : 1.0\n",
      "precision : 1.0\n",
      "fscore : 1.0\n"
     ]
    }
   ],
   "source": [
    "y_pred = our_pipeline.predict(test_x)\n",
    "\n",
    "\n",
    "prec,recall,fscore,_ = precision_recall_fscore_support(test_y,y_pred,pos_label=1,average='binary')\n",
    "print(f\"recall : {recall}\")\n",
    "print(f\"precision : {prec}\")\n",
    "print(f\"fscore : {fscore}\")\n"
   ]
  },
  {
   "cell_type": "code",
   "execution_count": 15,
   "metadata": {},
   "outputs": [
    {
     "data": {
      "image/png": "[encoded data removed]",
      "text/plain": [
       "<Figure size 432x288 with 2 Axes>"
      ]
     },
     "metadata": {
      "needs_background": "light"
     },
     "output_type": "display_data"
    }
   ],
   "source": [
    "cm = confusion_matrix(test_y,y_pred,normalize=None)\n",
    "ConfusionMatrixDisplay(confusion_matrix=cm,display_labels=our_pipeline.named_steps['featuresel'].estimator_.classes_).plot()\n",
    "plt.show()"
   ]
  },
  {
   "cell_type": "markdown",
   "metadata": {},
   "source": [
    "YAY ! We get the correct answer. Now we are ready to predict everything .JK.\n",
    "Next we are going to talk about packaging our model in order to be able to deploy it in an application.\n"
   ]
  }
 ],
 "metadata": {
  "kernelspec": {
   "display_name": "Py3.6",
   "language": "python",
   "name": "python3"
  },
  "language_info": {
   "codemirror_mode": {
    "name": "ipython",
    "version": 3
   },
   "file_extension": ".py",
   "mimetype": "text/x-python",
   "name": "python",
   "nbconvert_exporter": "python",
   "pygments_lexer": "ipython3",
   "version": "3.6.15"
  },
  "orig_nbformat": 4
 },
 "nbformat": 4,
 "nbformat_minor": 2
}
