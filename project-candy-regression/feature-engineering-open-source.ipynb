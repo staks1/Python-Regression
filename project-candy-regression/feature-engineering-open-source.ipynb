{
 "cells": [
  {
   "cell_type": "code",
   "execution_count": 9,
   "metadata": {},
   "outputs": [],
   "source": [
    "import pandas as pd\n",
    "import numpy as np\n",
    "import matplotlib.pyplot as plt \n",
    "from sklearn.feature_selection import SelectFromModel\n",
    "from sklearn.linear_model import Lasso,Ridge\n",
    "from sklearn.metrics import mean_squared_error,r2_score,confusion_matrix,ConfusionMatrixDisplay,roc_curve,RocCurveDisplay,auc,precision_recall_fscore_support,precision_score\n",
    "import joblib \n",
    "from sklearn.pipeline import Pipeline\n",
    "from sklearn.preprocessing import MinMaxScaler,Binarizer\n",
    "from sklearn.model_selection import train_test_split\n",
    "from sklearn.svm import LinearSVC\n",
    "from feature_engine.wrappers import SklearnTransformerWrapper as TransformerWrapper\n",
    "\n"
   ]
  },
  {
   "cell_type": "code",
   "execution_count": 13,
   "metadata": {},
   "outputs": [],
   "source": [
    "data = pd.read_csv(\"candy-data.csv\")\n",
    "\n",
    "# remove competitorname feature \n",
    "data.drop(columns='competitorname',inplace=True)\n",
    "\n",
    "\n",
    "# We start by separating the set into train and test set \n",
    "x_train,x_test,y_train,y_test = train_test_split(data.drop([\"chocolate\"],inplace=False,axis=1),data[\"chocolate\"],test_size=0.2,random_state=0,stratify=data['chocolate'])\n",
    "\n",
    "# reset index \n",
    "y_train.reset_index(drop=True,inplace=True)\n",
    "y_test.reset_index(drop=True,inplace=True)\n",
    "x_train.reset_index(drop=True,inplace=True)\n",
    "x_test.reset_index(drop=True,inplace=True)\n",
    "\n"
   ]
  },
  {
   "cell_type": "code",
   "execution_count": 15,
   "metadata": {},
   "outputs": [
    {
     "name": "stdout",
     "output_type": "stream",
     "text": [
      "(68,)\n",
      "(17,)\n",
      "0    0\n",
      "1    1\n",
      "Name: chocolate, dtype: int64\n",
      "0    0\n",
      "1    0\n",
      "Name: chocolate, dtype: int64\n",
      "   fruity  caramel  peanutyalmondy  nougat  crispedricewafer  hard  bar  \\\n",
      "0       0        1               0       0                 0     0    0   \n",
      "1       0        0               0       0                 0     0    0   \n",
      "\n",
      "   pluribus  sugarpercent  pricepercent  winpercent  \n",
      "0         0         0.418         0.325   32.230995  \n",
      "1         1         0.825         0.651   66.574585  \n",
      "   fruity  caramel  peanutyalmondy  nougat  crispedricewafer  hard  bar  \\\n",
      "0       1        0               0       0                 0     1    0   \n",
      "1       1        0               0       0                 0     0    0   \n",
      "\n",
      "   pluribus  sugarpercent  pricepercent  winpercent  \n",
      "0         0         0.732         0.034   39.460556  \n",
      "1         1         0.069         0.116   52.825947  \n"
     ]
    }
   ],
   "source": [
    "print(y_train.shape)\n",
    "print(y_test.shape )\n",
    "print(y_train.head(2))\n",
    "print(y_test.head(2))\n",
    "print(x_train.head(2))\n",
    "print(x_test.head(2))\n"
   ]
  },
  {
   "cell_type": "code",
   "execution_count": 21,
   "metadata": {},
   "outputs": [
    {
     "data": {
      "text/plain": [
       "['sugarpercent', 'pricepercent', 'winpercent']"
      ]
     },
     "execution_count": 21,
     "metadata": {},
     "output_type": "execute_result"
    }
   ],
   "source": [
    "CONT_VARS = [ var for var in x_train.columns if len(x_train[var].unique()) > 20   ]\n",
    "CONT_VARS"
   ]
  },
  {
   "cell_type": "code",
   "execution_count": 36,
   "metadata": {},
   "outputs": [],
   "source": [
    "# continuous variables\n",
    "pipe = Pipeline([   \n",
    "\n",
    "    ( 'featuresel', SelectFromModel (estimator=LinearSVC(C=0.04,verbose=3,random_state=0),max_features=len(x_train.columns))) ,\n",
    "    ('scaler', MinMaxScaler()),\n",
    "    ('model',LinearSVC(C=0.04,verbose=1,random_state=0) )\n",
    "])"
   ]
  },
  {
   "cell_type": "code",
   "execution_count": 37,
   "metadata": {},
   "outputs": [
    {
     "name": "stdout",
     "output_type": "stream",
     "text": [
      "[LibLinear][LibLinear]"
     ]
    },
    {
     "name": "stderr",
     "output_type": "stream",
     "text": [
      "/home/ko_st/.pyenv/versions/3.6.15/envs/Py3.6/lib/python3.6/site-packages/sklearn/svm/_base.py:986: ConvergenceWarning: Liblinear failed to converge, increase the number of iterations.\n",
      "  \"the number of iterations.\", ConvergenceWarning)\n"
     ]
    }
   ],
   "source": [
    "pipe.fit(x_train,y_train)\n",
    "y_train_pred = pipe.predict(x_train)\n",
    "y_test_pred = pipe.predict(x_test)\n"
   ]
  },
  {
   "cell_type": "code",
   "execution_count": 38,
   "metadata": {},
   "outputs": [
    {
     "name": "stdout",
     "output_type": "stream",
     "text": [
      "1.0\n",
      "0.7\n",
      "0.8235294117647058\n"
     ]
    }
   ],
   "source": [
    "# we can now evaluate our model \n",
    "prec,recall,fscore,_ = precision_recall_fscore_support(y_test,y_test_pred,pos_label=1,average='binary')\n",
    "print(recall)\n",
    "print(prec)\n",
    "print(fscore)\n"
   ]
  },
  {
   "cell_type": "code",
   "execution_count": 35,
   "metadata": {},
   "outputs": [
    {
     "name": "stdout",
     "output_type": "stream",
     "text": [
      "[ True False False False False False  True  True False False False]\n"
     ]
    }
   ],
   "source": [
    "# we can access the parameters of every transformer using the named_steps[name_of_transformer]. \n",
    "# in our pipeline \n",
    "#print(pipe.named_steps['featuresel'].get_support())"
   ]
  }
 ],
 "metadata": {
  "kernelspec": {
   "display_name": "Py3.6",
   "language": "python",
   "name": "python3"
  },
  "language_info": {
   "codemirror_mode": {
    "name": "ipython",
    "version": 3
   },
   "file_extension": ".py",
   "mimetype": "text/x-python",
   "name": "python",
   "nbconvert_exporter": "python",
   "pygments_lexer": "ipython3",
   "version": "3.6.15"
  },
  "orig_nbformat": 4
 },
 "nbformat": 4,
 "nbformat_minor": 2
}
