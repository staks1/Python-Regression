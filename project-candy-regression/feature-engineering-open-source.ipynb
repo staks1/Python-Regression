{
 "cells": [
  {
   "cell_type": "code",
   "execution_count": 20,
   "metadata": {},
   "outputs": [],
   "source": [
    "import pandas as pd\n",
    "import numpy as np\n",
    "import matplotlib.pyplot as plt \n",
    "from sklearn.feature_selection import SelectFromModel\n",
    "from sklearn.linear_model import Lasso,Ridge\n",
    "from sklearn.metrics import mean_squared_error,r2_score,confusion_matrix,ConfusionMatrixDisplay,roc_curve,RocCurveDisplay,auc,precision_recall_fscore_support,precision_score\n",
    "import joblib \n",
    "from sklearn.pipeline import Pipeline\n",
    "from sklearn.preprocessing import MinMaxScaler,Binarizer\n",
    "from sklearn.model_selection import train_test_split\n",
    "from sklearn.svm import LinearSVC\n",
    "from feature_engine.wrappers import SklearnTransformerWrapper as TransformerWrapper\n",
    "from feature_engine.imputation import CategoricalImputer, MeanMedianImputer\n",
    "\n"
   ]
  },
  {
   "cell_type": "code",
   "execution_count": 2,
   "metadata": {},
   "outputs": [],
   "source": [
    "data = pd.read_csv(\"candy-data.csv\")\n",
    "\n",
    "# remove competitorname feature \n",
    "data.drop(columns='competitorname',inplace=True)\n",
    "\n",
    "\n",
    "# We start by separating the set into train and test set \n",
    "x_train,x_test,y_train,y_test = train_test_split(data.drop([\"chocolate\"],inplace=False,axis=1),data[\"chocolate\"],test_size=0.2,random_state=0,stratify=data['chocolate'])\n",
    "\n",
    "# reset index \n",
    "y_train.reset_index(drop=True,inplace=True)\n",
    "y_test.reset_index(drop=True,inplace=True)\n",
    "x_train.reset_index(drop=True,inplace=True)\n",
    "x_test.reset_index(drop=True,inplace=True)\n",
    "\n"
   ]
  },
  {
   "cell_type": "code",
   "execution_count": 3,
   "metadata": {},
   "outputs": [
    {
     "name": "stdout",
     "output_type": "stream",
     "text": [
      "(68,)\n",
      "(17,)\n",
      "0    0\n",
      "1    1\n",
      "Name: chocolate, dtype: int64\n",
      "0    0\n",
      "1    0\n",
      "Name: chocolate, dtype: int64\n",
      "   fruity  caramel  peanutyalmondy  nougat  crispedricewafer  hard  bar  \\\n",
      "0       0        1               0       0                 0     0    0   \n",
      "1       0        0               0       0                 0     0    0   \n",
      "\n",
      "   pluribus  sugarpercent  pricepercent  winpercent  \n",
      "0         0         0.418         0.325   32.230995  \n",
      "1         1         0.825         0.651   66.574585  \n",
      "   fruity  caramel  peanutyalmondy  nougat  crispedricewafer  hard  bar  \\\n",
      "0       1        0               0       0                 0     1    0   \n",
      "1       1        0               0       0                 0     0    0   \n",
      "\n",
      "   pluribus  sugarpercent  pricepercent  winpercent  \n",
      "0         0         0.732         0.034   39.460556  \n",
      "1         1         0.069         0.116   52.825947  \n"
     ]
    }
   ],
   "source": [
    "print(y_train.shape)\n",
    "print(y_test.shape )\n",
    "print(y_train.head(2))\n",
    "print(y_test.head(2))\n",
    "print(x_train.head(2))\n",
    "print(x_test.head(2))\n"
   ]
  },
  {
   "cell_type": "code",
   "execution_count": 4,
   "metadata": {},
   "outputs": [
    {
     "name": "stdout",
     "output_type": "stream",
     "text": [
      "0    0.558824\n",
      "1    0.441176\n",
      "Name: chocolate, dtype: float64\n",
      "0    0.588235\n",
      "1    0.411765\n",
      "Name: chocolate, dtype: float64\n"
     ]
    }
   ],
   "source": [
    "# check that the frequencies are maintained in our test set \n",
    "print(y_train.value_counts(normalize=True))\n",
    "print(y_test.value_counts(normalize=True))"
   ]
  },
  {
   "cell_type": "markdown",
   "metadata": {},
   "source": [
    "#### We explicitly now store the variables in a list so we can use them easily in our pipeline "
   ]
  },
  {
   "cell_type": "code",
   "execution_count": 5,
   "metadata": {},
   "outputs": [
    {
     "name": "stdout",
     "output_type": "stream",
     "text": [
      "['sugarpercent', 'pricepercent', 'winpercent']\n"
     ]
    },
    {
     "data": {
      "text/html": [
       "<div>\n",
       "<style scoped>\n",
       "    .dataframe tbody tr th:only-of-type {\n",
       "        vertical-align: middle;\n",
       "    }\n",
       "\n",
       "    .dataframe tbody tr th {\n",
       "        vertical-align: top;\n",
       "    }\n",
       "\n",
       "    .dataframe thead th {\n",
       "        text-align: right;\n",
       "    }\n",
       "</style>\n",
       "<table border=\"1\" class=\"dataframe\">\n",
       "  <thead>\n",
       "    <tr style=\"text-align: right;\">\n",
       "      <th></th>\n",
       "      <th>fruity</th>\n",
       "      <th>caramel</th>\n",
       "      <th>peanutyalmondy</th>\n",
       "      <th>nougat</th>\n",
       "      <th>crispedricewafer</th>\n",
       "      <th>hard</th>\n",
       "      <th>bar</th>\n",
       "      <th>pluribus</th>\n",
       "      <th>sugarpercent</th>\n",
       "      <th>pricepercent</th>\n",
       "      <th>winpercent</th>\n",
       "    </tr>\n",
       "  </thead>\n",
       "  <tbody>\n",
       "    <tr>\n",
       "      <th>0</th>\n",
       "      <td>0</td>\n",
       "      <td>1</td>\n",
       "      <td>0</td>\n",
       "      <td>0</td>\n",
       "      <td>0</td>\n",
       "      <td>0</td>\n",
       "      <td>0</td>\n",
       "      <td>0</td>\n",
       "      <td>0.418</td>\n",
       "      <td>0.325</td>\n",
       "      <td>32.230995</td>\n",
       "    </tr>\n",
       "    <tr>\n",
       "      <th>1</th>\n",
       "      <td>0</td>\n",
       "      <td>0</td>\n",
       "      <td>0</td>\n",
       "      <td>0</td>\n",
       "      <td>0</td>\n",
       "      <td>0</td>\n",
       "      <td>0</td>\n",
       "      <td>1</td>\n",
       "      <td>0.825</td>\n",
       "      <td>0.651</td>\n",
       "      <td>66.574585</td>\n",
       "    </tr>\n",
       "    <tr>\n",
       "      <th>2</th>\n",
       "      <td>0</td>\n",
       "      <td>0</td>\n",
       "      <td>0</td>\n",
       "      <td>0</td>\n",
       "      <td>0</td>\n",
       "      <td>0</td>\n",
       "      <td>1</td>\n",
       "      <td>0</td>\n",
       "      <td>0.430</td>\n",
       "      <td>0.918</td>\n",
       "      <td>56.490501</td>\n",
       "    </tr>\n",
       "    <tr>\n",
       "      <th>3</th>\n",
       "      <td>1</td>\n",
       "      <td>0</td>\n",
       "      <td>0</td>\n",
       "      <td>0</td>\n",
       "      <td>0</td>\n",
       "      <td>0</td>\n",
       "      <td>0</td>\n",
       "      <td>1</td>\n",
       "      <td>0.465</td>\n",
       "      <td>0.465</td>\n",
       "      <td>57.119740</td>\n",
       "    </tr>\n",
       "    <tr>\n",
       "      <th>4</th>\n",
       "      <td>1</td>\n",
       "      <td>0</td>\n",
       "      <td>0</td>\n",
       "      <td>0</td>\n",
       "      <td>0</td>\n",
       "      <td>0</td>\n",
       "      <td>0</td>\n",
       "      <td>1</td>\n",
       "      <td>0.581</td>\n",
       "      <td>0.116</td>\n",
       "      <td>37.348522</td>\n",
       "    </tr>\n",
       "  </tbody>\n",
       "</table>\n",
       "</div>"
      ],
      "text/plain": [
       "   fruity  caramel  peanutyalmondy  nougat  crispedricewafer  hard  bar  \\\n",
       "0       0        1               0       0                 0     0    0   \n",
       "1       0        0               0       0                 0     0    0   \n",
       "2       0        0               0       0                 0     0    1   \n",
       "3       1        0               0       0                 0     0    0   \n",
       "4       1        0               0       0                 0     0    0   \n",
       "\n",
       "   pluribus  sugarpercent  pricepercent  winpercent  \n",
       "0         0         0.418         0.325   32.230995  \n",
       "1         1         0.825         0.651   66.574585  \n",
       "2         0         0.430         0.918   56.490501  \n",
       "3         1         0.465         0.465   57.119740  \n",
       "4         1         0.581         0.116   37.348522  "
      ]
     },
     "execution_count": 5,
     "metadata": {},
     "output_type": "execute_result"
    }
   ],
   "source": [
    "# store our continuous variables \n",
    "CONT_VARS = [ var for var in x_train.columns if len(x_train[var].unique()) > 20   ]\n",
    "print(CONT_VARS)\n",
    "x_train.head()"
   ]
  },
  {
   "cell_type": "markdown",
   "metadata": {},
   "source": [
    "#### We also remember to set the random_state in our SelectFromModel class and also in the final Model-Estimator class."
   ]
  },
  {
   "cell_type": "markdown",
   "metadata": {},
   "source": [
    "<ul><li> Remember that in order to get the best out of our model, because we are using an embedded method of feature selection, which takes into account the model-estimator to suggest the best features for this specific estimator, we should apply our MinMaxScaler before the final model-estimator since we need to feed the transformed features into the Scaler before we feed them into the Model to do our feature selection . Observe that if we put the MinMaxScaler after the Feature selection, now the SVC gets fitted on the non transformed features and picks the features from them. This may lead to different model efficiency and outputs. </li></ul>"
   ]
  },
  {
   "cell_type": "markdown",
   "metadata": {},
   "source": [
    "We need to also take care of NaN values in any column in our dataset. We are going to use a simple Strategy to find the most frequent value and replace missing values with this value in each column. On the other hand since we see from our initial analysis for example that for all the chocolate products only 1 is also fruity and the rest are not fruity (remember the groupby we performed in the `candy-regression.ipynb`) one could say that fruity is definitely a dominant factor for non chocolate products so if for example we see chocolate in a row and fruity is missing we could say it's definitely 0. This of course inserts a lot of bias in our model and since the dataset is very small the samples are not enough to justify such a move.\n",
    "\n",
    "<ul><li> So we will use the most frequent class in the discreet (binary) variables </li></ul> \n",
    "<ul><li> and also the mean of the values for continuous variables </li></ul>\n",
    "\n",
    "For this we are going to use the Feature Engine library which offers many transformers for every possible variable type and can easily be integrated into our pipeline."
   ]
  },
  {
   "cell_type": "code",
   "execution_count": 8,
   "metadata": {},
   "outputs": [
    {
     "data": {
      "text/plain": [
       "['fruity',\n",
       " 'caramel',\n",
       " 'peanutyalmondy',\n",
       " 'nougat',\n",
       " 'crispedricewafer',\n",
       " 'hard',\n",
       " 'bar',\n",
       " 'pluribus']"
      ]
     },
     "execution_count": 8,
     "metadata": {},
     "output_type": "execute_result"
    }
   ],
   "source": [
    "# store our discreet variables \n",
    "DISCREET_VARS = [var for var in x_train.columns if var not in CONT_VARS]\n",
    "DISCREET_VARS"
   ]
  },
  {
   "cell_type": "markdown",
   "metadata": {},
   "source": [
    " For the continuous variables we could use the mean or we could use the median value ,se we are going to use the median value and replace missing values with the median."
   ]
  },
  {
   "cell_type": "code",
   "execution_count": 21,
   "metadata": {},
   "outputs": [],
   "source": [
    "# continuous variables\n",
    "pipe = Pipeline([   \n",
    "    ('categoricalimputer',CategoricalImputer(imputation_method='frequent' ,variables=DISCREET_VARS,ignore_format=True)),\n",
    "    ('medianimputer',MeanMedianImputer(imputation_method='median',variables=CONT_VARS)),\n",
    "    ('scaler', MinMaxScaler()),\n",
    "    ( 'featuresel', SelectFromModel (estimator=LinearSVC(C=0.04,verbose=3,random_state=0),max_features=len(x_train.columns))) ,\n",
    "    ('model',LinearSVC(C=0.04,verbose=1,random_state=0) )\n",
    "])"
   ]
  },
  {
   "cell_type": "markdown",
   "metadata": {},
   "source": [
    "Using the method `named_steps` we can go to each part of our pipeline and get each transformer's parameters so let's inspect the dictionary with the values to replace for each variable in our 2 imputers."
   ]
  },
  {
   "cell_type": "code",
   "execution_count": 32,
   "metadata": {},
   "outputs": [
    {
     "name": "stdout",
     "output_type": "stream",
     "text": [
      "{'sugarpercent': 0.465, 'pricepercent': 0.465, 'winpercent': 50.0005245}\n",
      "{'fruity': 0, 'caramel': 0, 'peanutyalmondy': 0, 'nougat': 0, 'crispedricewafer': 0, 'hard': 0, 'bar': 0, 'pluribus': 1}\n"
     ]
    }
   ],
   "source": [
    "print (pipe.named_steps['medianimputer'].imputer_dict_)\n",
    "print(pipe.named_steps['categoricalimputer'].imputer_dict_)"
   ]
  },
  {
   "cell_type": "markdown",
   "metadata": {},
   "source": [
    "Great! The values seem logical <u>altough I should highlight this is a very small dataset and we do not have any NaN values so if it is not so obvious what the correct imputation method could be. In the case of newly fed data for inference the model could be fed with outliers and so these simple imputation methods could lead the model to completely wrong predictions.</u>\n",
    "\n",
    "To evaluate our model, since our dataset is very small we will split the test set into a validation and a new test set we are going to use later for inference on new data.\n",
    "First of course we have to fit our transformers on the dataset and apply the whole pipeline !"
   ]
  },
  {
   "cell_type": "code",
   "execution_count": 22,
   "metadata": {},
   "outputs": [
    {
     "name": "stdout",
     "output_type": "stream",
     "text": [
      "[LibLinear][LibLinear]"
     ]
    },
    {
     "data": {
      "text/plain": [
       "Pipeline(steps=[('categoricalimputer',\n",
       "                 CategoricalImputer(ignore_format=True,\n",
       "                                    imputation_method='frequent',\n",
       "                                    variables=['fruity', 'caramel',\n",
       "                                               'peanutyalmondy', 'nougat',\n",
       "                                               'crispedricewafer', 'hard',\n",
       "                                               'bar', 'pluribus'])),\n",
       "                ('medianimputer',\n",
       "                 MeanMedianImputer(variables=['sugarpercent', 'pricepercent',\n",
       "                                              'winpercent'])),\n",
       "                ('scaler', MinMaxScaler()),\n",
       "                ('featuresel',\n",
       "                 SelectFromModel(estimator=LinearSVC(C=0.04, random_state=0,\n",
       "                                                     verbose=3),\n",
       "                                 max_features=11)),\n",
       "                ('model', LinearSVC(C=0.04, random_state=0, verbose=1))])"
      ]
     },
     "execution_count": 22,
     "metadata": {},
     "output_type": "execute_result"
    }
   ],
   "source": [
    "pipe.fit(x_train,y_train)"
   ]
  },
  {
   "cell_type": "code",
   "execution_count": 23,
   "metadata": {},
   "outputs": [
    {
     "name": "stdout",
     "output_type": "stream",
     "text": [
      "<class 'pandas.core.frame.DataFrame'>\n",
      "<class 'pandas.core.series.Series'>\n",
      "<class 'pandas.core.frame.DataFrame'>\n",
      "   fruity  caramel  peanutyalmondy  nougat  crispedricewafer  hard  bar  \\\n",
      "0       1        0               0       0                 0     1    0   \n",
      "1       1        0               0       0                 0     0    0   \n",
      "2       1        0               0       0                 0     0    0   \n",
      "3       1        0               0       0                 0     1    0   \n",
      "4       0        1               0       0                 0     0    0   \n",
      "\n",
      "   pluribus  sugarpercent  pricepercent  winpercent  \n",
      "0         0         0.732         0.034   39.460556  \n",
      "1         1         0.069         0.116   52.825947  \n",
      "2         0         0.220         0.116   45.466282  \n",
      "3         0         0.093         0.116   39.011898  \n",
      "4         1         0.965         0.767   33.437550  \n"
     ]
    }
   ],
   "source": [
    "# check types \n",
    "print(type(x_train))\n",
    "print(type(y_train))\n",
    "print(type(x_test))\n",
    "print(x_test.head())"
   ]
  },
  {
   "cell_type": "code",
   "execution_count": 24,
   "metadata": {},
   "outputs": [
    {
     "name": "stdout",
     "output_type": "stream",
     "text": [
      "(10,)\n",
      "[0 0 0 0 0 1 1 0 1 1]\n"
     ]
    }
   ],
   "source": [
    "y_train_pred = pipe.predict(x_train)\n",
    "\n",
    "# evaluate on split set (validation set) \n",
    "y_test_pred = pipe.predict(x_test.iloc[:10,:])\n",
    "print(y_test_pred.shape)\n",
    "print(y_test_pred)\n"
   ]
  },
  {
   "cell_type": "code",
   "execution_count": 25,
   "metadata": {},
   "outputs": [
    {
     "name": "stdout",
     "output_type": "stream",
     "text": [
      "    fruity  caramel  peanutyalmondy  nougat  crispedricewafer  hard  bar  \\\n",
      "10       0        0               0       0                 0     0    0   \n",
      "11       1        0               0       0                 0     0    0   \n",
      "\n",
      "    pluribus  sugarpercent  pricepercent  winpercent  \n",
      "10         0         0.011         0.116   32.261086  \n",
      "11         1         0.197         0.976   22.445341  \n",
      "10    0\n",
      "11    0\n",
      "Name: chocolate, dtype: int64\n"
     ]
    }
   ],
   "source": [
    "# let's save the inference-test-set into a csv to use it for inference later \n",
    "x_test_set = x_test.iloc[10:,:]\n",
    "y_test_set = y_test.iloc[10:]\n",
    "x_test_set.to_csv('infer-testx.csv',index=False)\n",
    "y_test_set.to_csv('infer-testy.csv',index=False)\n",
    "print(x_test_set.head(2))\n",
    "print(y_test_set.head(2))"
   ]
  },
  {
   "cell_type": "code",
   "execution_count": 26,
   "metadata": {},
   "outputs": [
    {
     "name": "stdout",
     "output_type": "stream",
     "text": [
      "recall : 1.0\n",
      "precision : 1.0\n",
      "fscore : 1.0\n"
     ]
    }
   ],
   "source": [
    "# we can now evaluate our model \n",
    "prec,recall,fscore,_ = precision_recall_fscore_support(y_test.iloc[:10],y_test_pred,pos_label=1,average='binary')\n",
    "print(f\"recall : {recall}\")\n",
    "print(f\"precision : {prec}\")\n",
    "print(f\"fscore : {fscore}\")\n"
   ]
  },
  {
   "cell_type": "code",
   "execution_count": 27,
   "metadata": {},
   "outputs": [
    {
     "name": "stdout",
     "output_type": "stream",
     "text": [
      "(17,)\n"
     ]
    },
    {
     "data": {
      "image/png": "[encoded data removed]",
      "text/plain": [
       "<Figure size 432x288 with 2 Axes>"
      ]
     },
     "metadata": {
      "needs_background": "light"
     },
     "output_type": "display_data"
    }
   ],
   "source": [
    "print(y_test.shape)\n",
    "cm = confusion_matrix(y_test.iloc[:10],y_test_pred,normalize=None)\n",
    "ConfusionMatrixDisplay(confusion_matrix=cm,display_labels=pipe.named_steps['featuresel'].estimator_.classes_).plot()\n",
    "plt.show()"
   ]
  },
  {
   "cell_type": "code",
   "execution_count": 28,
   "metadata": {},
   "outputs": [
    {
     "data": {
      "text/plain": [
       "['chocolate-pipe.joblib']"
      ]
     },
     "execution_count": 28,
     "metadata": {},
     "output_type": "execute_result"
    }
   ],
   "source": [
    "# we save the pipeline using joblib \n",
    "joblib.dump(pipe,'chocolate-pipe.joblib')"
   ]
  }
 ],
 "metadata": {
  "kernelspec": {
   "display_name": "Py3.6",
   "language": "python",
   "name": "python3"
  },
  "language_info": {
   "codemirror_mode": {
    "name": "ipython",
    "version": 3
   },
   "file_extension": ".py",
   "mimetype": "text/x-python",
   "name": "python",
   "nbconvert_exporter": "python",
   "pygments_lexer": "ipython3",
   "version": "3.6.15"
  },
  "orig_nbformat": 4
 },
 "nbformat": 4,
 "nbformat_minor": 2
}
