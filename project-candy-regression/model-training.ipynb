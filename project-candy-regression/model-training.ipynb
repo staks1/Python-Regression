{
 "cells": [
  {
   "cell_type": "code",
   "execution_count": 98,
   "metadata": {},
   "outputs": [],
   "source": [
    "import pandas as pd\n",
    "import numpy as np\n",
    "import matplotlib.pyplot as plt \n",
    "from sklearn.feature_selection import SelectFromModel\n",
    "from sklearn.linear_model import Lasso,Ridge\n",
    "from sklearn.metrics import mean_squared_error,r2_score,confusion_matrix,ConfusionMatrixDisplay,roc_curve,RocCurveDisplay,auc,precision_recall_fscore_support\n",
    "import joblib \n",
    "\n"
   ]
  },
  {
   "cell_type": "markdown",
   "metadata": {},
   "source": [
    "# Model Training \n",
    "In this part we are going to train our model on our selected features using Ridge Regression \n"
   ]
  },
  {
   "cell_type": "code",
   "execution_count": 4,
   "metadata": {},
   "outputs": [
    {
     "name": "stdout",
     "output_type": "stream",
     "text": [
      "   fruity  caramel  peanutyalmondy  nougat  crispedricewafer  hard  bar  \\\n",
      "0     0.0      1.0             0.0     0.0               0.0   0.0  0.0   \n",
      "\n",
      "   pluribus  sugarpercent  pricepercent  winpercent  \n",
      "0       0.0      0.416581       0.32914    0.134388  \n",
      "   fruity  caramel  peanutyalmondy  nougat  crispedricewafer  hard  bar  \\\n",
      "0     1.0      0.0             0.0     0.0               0.0   1.0  0.0   \n",
      "\n",
      "   pluribus  sugarpercent  pricepercent  winpercent  \n",
      "0       0.0      0.737973      0.024109    0.260468  \n",
      "   chocolate\n",
      "0          0\n",
      "   chocolate\n",
      "0          0\n"
     ]
    }
   ],
   "source": [
    "x_train = pd.read_csv('xtrain.csv',index_col=0)\n",
    "x_test = pd.read_csv('xtest.csv',index_col=0)\n",
    "y_train = pd.read_csv('ytrain.csv',index_col=0)\n",
    "y_test = pd.read_csv('ytest.csv',index_col=0)\n",
    "\n",
    "# checks \n",
    "print(x_train.head(1))\n",
    "print(x_test.head(1))\n",
    "print(y_train.head(1))\n",
    "print(y_test.head(1))"
   ]
  },
  {
   "cell_type": "markdown",
   "metadata": {},
   "source": [
    "Then we select our 'selected_features' to train the Model only on them.\n",
    "So we keep only those features from all the training set "
   ]
  },
  {
   "cell_type": "code",
   "execution_count": 13,
   "metadata": {},
   "outputs": [
    {
     "data": {
      "text/plain": [
       "['fruity', 'nougat', 'bar', 'winpercent']"
      ]
     },
     "execution_count": 13,
     "metadata": {},
     "output_type": "execute_result"
    }
   ],
   "source": [
    "features = pd.read_csv('selected_features.csv')['0'].to_list()\n",
    "features\n"
   ]
  },
  {
   "cell_type": "code",
   "execution_count": 15,
   "metadata": {},
   "outputs": [
    {
     "data": {
      "text/html": [
       "<div>\n",
       "<style scoped>\n",
       "    .dataframe tbody tr th:only-of-type {\n",
       "        vertical-align: middle;\n",
       "    }\n",
       "\n",
       "    .dataframe tbody tr th {\n",
       "        vertical-align: top;\n",
       "    }\n",
       "\n",
       "    .dataframe thead th {\n",
       "        text-align: right;\n",
       "    }\n",
       "</style>\n",
       "<table border=\"1\" class=\"dataframe\">\n",
       "  <thead>\n",
       "    <tr style=\"text-align: right;\">\n",
       "      <th></th>\n",
       "      <th>fruity</th>\n",
       "      <th>nougat</th>\n",
       "      <th>bar</th>\n",
       "      <th>winpercent</th>\n",
       "    </tr>\n",
       "  </thead>\n",
       "  <tbody>\n",
       "    <tr>\n",
       "      <th>0</th>\n",
       "      <td>1.0</td>\n",
       "      <td>0.0</td>\n",
       "      <td>0.0</td>\n",
       "      <td>0.260468</td>\n",
       "    </tr>\n",
       "  </tbody>\n",
       "</table>\n",
       "</div>"
      ],
      "text/plain": [
       "   fruity  nougat  bar  winpercent\n",
       "0     1.0     0.0  0.0    0.260468"
      ]
     },
     "execution_count": 15,
     "metadata": {},
     "output_type": "execute_result"
    }
   ],
   "source": [
    "x_train = x_train[features]\n",
    "x_test = x_test[features]\n",
    "x_test.head(1)"
   ]
  },
  {
   "cell_type": "markdown",
   "metadata": {},
   "source": [
    "### <u>Train the Model and remember to set the random_state (seed) to reproduce the model. We also use the same alpha value we used while selecting the features  </u>"
   ]
  },
  {
   "cell_type": "code",
   "execution_count": 27,
   "metadata": {},
   "outputs": [
    {
     "data": {
      "text/plain": [
       "Ridge(alpha=0.09, random_state=0)"
      ]
     },
     "execution_count": 27,
     "metadata": {},
     "output_type": "execute_result"
    }
   ],
   "source": [
    "ridge_model = Ridge(alpha = 0.09,random_state=0)\n",
    "ridge_model.fit(x_train,y_train)\n"
   ]
  },
  {
   "cell_type": "markdown",
   "metadata": {},
   "source": [
    "Then we will make predictions with our model first on the training set and then on the test set ."
   ]
  },
  {
   "cell_type": "markdown",
   "metadata": {},
   "source": [
    "### TRAINING SET "
   ]
  },
  {
   "cell_type": "markdown",
   "metadata": {},
   "source": [
    "<ul><li> Mean Squared Error </li></ul>"
   ]
  },
  {
   "cell_type": "code",
   "execution_count": 28,
   "metadata": {},
   "outputs": [
    {
     "name": "stdout",
     "output_type": "stream",
     "text": [
      "Train MSE :0.06734871693392859\n",
      "\n"
     ]
    }
   ],
   "source": [
    "y_pred = ridge_model.predict(x_train)\n",
    "\n",
    "# calculate error \n",
    "print (f\"Train MSE :{mean_squared_error(y_pred,y_train)}\\n\" )"
   ]
  },
  {
   "cell_type": "markdown",
   "metadata": {},
   "source": [
    "<ul><li> R2 score </li></ul>"
   ]
  },
  {
   "cell_type": "code",
   "execution_count": 29,
   "metadata": {},
   "outputs": [
    {
     "name": "stdout",
     "output_type": "stream",
     "text": [
      "Train R2 :0.6190794396098427\n",
      "\n"
     ]
    }
   ],
   "source": [
    "# calculate regression score \n",
    "print (f\"Train R2 :{r2_score(y_pred,y_train)}\\n\" )"
   ]
  },
  {
   "cell_type": "markdown",
   "metadata": {},
   "source": [
    "### TEST SET "
   ]
  },
  {
   "cell_type": "markdown",
   "metadata": {},
   "source": [
    "<ul><li> Mean Squared Error </li></ul>"
   ]
  },
  {
   "cell_type": "code",
   "execution_count": 72,
   "metadata": {},
   "outputs": [
    {
     "name": "stdout",
     "output_type": "stream",
     "text": [
      "Test MSE :0.07588501684067529\n",
      "\n"
     ]
    }
   ],
   "source": [
    "y_pred = ridge_model.predict(x_test)\n",
    "\n",
    "# calculate error \n",
    "print (f\"Test MSE :{mean_squared_error(y_pred,y_test)}\\n\" )"
   ]
  },
  {
   "cell_type": "markdown",
   "metadata": {},
   "source": [
    "<ul><li> R2 score </li></ul>"
   ]
  },
  {
   "cell_type": "code",
   "execution_count": 73,
   "metadata": {},
   "outputs": [
    {
     "name": "stdout",
     "output_type": "stream",
     "text": [
      "Test R2 :0.5878699367181376\n",
      "\n"
     ]
    }
   ],
   "source": [
    "# calculate regression score \n",
    "print (f\"Test R2 :{r2_score(y_pred,y_test)}\\n\" )"
   ]
  },
  {
   "cell_type": "markdown",
   "metadata": {},
   "source": [
    "Since we dealt with the problem as a regression problem we need to cast our continuous predictions to 0 or 1 to select one of the 2 classes . Of course this is not the most logical solution since the problem is actually a classification problem and we have to tackle it with classification algorithms but here we are just experimenting with this regression method and pick a threshold above which we classify as 1 (chocolate) and below as 0 (non chocolate)."
   ]
  },
  {
   "cell_type": "code",
   "execution_count": 74,
   "metadata": {},
   "outputs": [
    {
     "data": {
      "text/plain": [
       "array([[0],\n",
       "       [0],\n",
       "       [0],\n",
       "       [0],\n",
       "       [0],\n",
       "       [1],\n",
       "       [1],\n",
       "       [0],\n",
       "       [1],\n",
       "       [1],\n",
       "       [0],\n",
       "       [0],\n",
       "       [1],\n",
       "       [1],\n",
       "       [1],\n",
       "       [0],\n",
       "       [0]])"
      ]
     },
     "execution_count": 74,
     "metadata": {},
     "output_type": "execute_result"
    }
   ],
   "source": [
    "y_pred = np.where(y_pred > 0.4,1,0)\n",
    "y_pred "
   ]
  },
  {
   "cell_type": "code",
   "execution_count": 75,
   "metadata": {},
   "outputs": [
    {
     "data": {
      "image/png": "[encoded data removed]",
      "text/plain": [
       "<Figure size 432x288 with 2 Axes>"
      ]
     },
     "metadata": {
      "needs_background": "light"
     },
     "output_type": "display_data"
    }
   ],
   "source": [
    "# we need to calculate our confusion matrix here \n",
    "cm = confusion_matrix(y_test,y_pred,normalize=None)\n",
    "\n",
    "ConfusionMatrixDisplay(confusion_matrix=cm).plot()\n",
    "plt.show()"
   ]
  },
  {
   "cell_type": "code",
   "execution_count": null,
   "metadata": {},
   "outputs": [],
   "source": [
    "# calculate the roc curve and pick a threshold\n",
    "\n",
    "#fpr,tpr,thresholds = roc_curve(y_test,y_pred,pos_label=1)\n",
    "#roc_auc = auc(fpr,tpr)\n",
    "#RocCurveDisplay(fpr=fpr,tpr=tpr,roc_auc=roc_auc,estimator_name=ridge_model).plot()\n",
    "#plt.plot()"
   ]
  },
  {
   "cell_type": "markdown",
   "metadata": {},
   "source": [
    "If we change the threshold to $(0.4)$ we get correct results but if we increase the threshold or decrease the threshold we start to get more false positives and false negatives. In essence we can't really be certain about the results because we have used a regression technique but the problem is a classification one , so our hardcoded threshold is not really easy to explain and reproduce."
   ]
  },
  {
   "cell_type": "markdown",
   "metadata": {},
   "source": [
    "<strong>Next we will use a classification algorithm to tackle the problem </strong>\n",
    "<ul><li> We will repeat the steps of feature selection and try to pick the best features for our classification task </li></ul>"
   ]
  },
  {
   "cell_type": "code",
   "execution_count": 81,
   "metadata": {},
   "outputs": [
    {
     "data": {
      "text/html": [
       "<div>\n",
       "<style scoped>\n",
       "    .dataframe tbody tr th:only-of-type {\n",
       "        vertical-align: middle;\n",
       "    }\n",
       "\n",
       "    .dataframe tbody tr th {\n",
       "        vertical-align: top;\n",
       "    }\n",
       "\n",
       "    .dataframe thead th {\n",
       "        text-align: right;\n",
       "    }\n",
       "</style>\n",
       "<table border=\"1\" class=\"dataframe\">\n",
       "  <thead>\n",
       "    <tr style=\"text-align: right;\">\n",
       "      <th></th>\n",
       "      <th>fruity</th>\n",
       "      <th>caramel</th>\n",
       "      <th>peanutyalmondy</th>\n",
       "      <th>nougat</th>\n",
       "      <th>crispedricewafer</th>\n",
       "      <th>hard</th>\n",
       "      <th>bar</th>\n",
       "      <th>pluribus</th>\n",
       "      <th>sugarpercent</th>\n",
       "      <th>pricepercent</th>\n",
       "      <th>winpercent</th>\n",
       "    </tr>\n",
       "  </thead>\n",
       "  <tbody>\n",
       "    <tr>\n",
       "      <th>0</th>\n",
       "      <td>0.0</td>\n",
       "      <td>1.0</td>\n",
       "      <td>0.0</td>\n",
       "      <td>0.0</td>\n",
       "      <td>0.0</td>\n",
       "      <td>0.0</td>\n",
       "      <td>0.0</td>\n",
       "      <td>0.0</td>\n",
       "      <td>0.416581</td>\n",
       "      <td>0.329140</td>\n",
       "      <td>0.134388</td>\n",
       "    </tr>\n",
       "    <tr>\n",
       "      <th>1</th>\n",
       "      <td>0.0</td>\n",
       "      <td>0.0</td>\n",
       "      <td>0.0</td>\n",
       "      <td>0.0</td>\n",
       "      <td>0.0</td>\n",
       "      <td>0.0</td>\n",
       "      <td>0.0</td>\n",
       "      <td>1.0</td>\n",
       "      <td>0.833163</td>\n",
       "      <td>0.670860</td>\n",
       "      <td>0.733322</td>\n",
       "    </tr>\n",
       "    <tr>\n",
       "      <th>2</th>\n",
       "      <td>0.0</td>\n",
       "      <td>0.0</td>\n",
       "      <td>0.0</td>\n",
       "      <td>0.0</td>\n",
       "      <td>0.0</td>\n",
       "      <td>0.0</td>\n",
       "      <td>1.0</td>\n",
       "      <td>0.0</td>\n",
       "      <td>0.428864</td>\n",
       "      <td>0.950734</td>\n",
       "      <td>0.557461</td>\n",
       "    </tr>\n",
       "    <tr>\n",
       "      <th>3</th>\n",
       "      <td>1.0</td>\n",
       "      <td>0.0</td>\n",
       "      <td>0.0</td>\n",
       "      <td>0.0</td>\n",
       "      <td>0.0</td>\n",
       "      <td>0.0</td>\n",
       "      <td>0.0</td>\n",
       "      <td>1.0</td>\n",
       "      <td>0.464688</td>\n",
       "      <td>0.475891</td>\n",
       "      <td>0.568434</td>\n",
       "    </tr>\n",
       "    <tr>\n",
       "      <th>4</th>\n",
       "      <td>1.0</td>\n",
       "      <td>0.0</td>\n",
       "      <td>0.0</td>\n",
       "      <td>0.0</td>\n",
       "      <td>0.0</td>\n",
       "      <td>0.0</td>\n",
       "      <td>0.0</td>\n",
       "      <td>1.0</td>\n",
       "      <td>0.583419</td>\n",
       "      <td>0.110063</td>\n",
       "      <td>0.223635</td>\n",
       "    </tr>\n",
       "  </tbody>\n",
       "</table>\n",
       "</div>"
      ],
      "text/plain": [
       "   fruity  caramel  peanutyalmondy  nougat  crispedricewafer  hard  bar  \\\n",
       "0     0.0      1.0             0.0     0.0               0.0   0.0  0.0   \n",
       "1     0.0      0.0             0.0     0.0               0.0   0.0  0.0   \n",
       "2     0.0      0.0             0.0     0.0               0.0   0.0  1.0   \n",
       "3     1.0      0.0             0.0     0.0               0.0   0.0  0.0   \n",
       "4     1.0      0.0             0.0     0.0               0.0   0.0  0.0   \n",
       "\n",
       "   pluribus  sugarpercent  pricepercent  winpercent  \n",
       "0       0.0      0.416581      0.329140    0.134388  \n",
       "1       1.0      0.833163      0.670860    0.733322  \n",
       "2       0.0      0.428864      0.950734    0.557461  \n",
       "3       1.0      0.464688      0.475891    0.568434  \n",
       "4       1.0      0.583419      0.110063    0.223635  "
      ]
     },
     "execution_count": 81,
     "metadata": {},
     "output_type": "execute_result"
    }
   ],
   "source": [
    "x_train=pd.read_csv('xtrain.csv',index_col=0)\n",
    "x_test=pd.read_csv('xtest.csv',index_col=0)\n",
    "x_train.head()"
   ]
  },
  {
   "cell_type": "markdown",
   "metadata": {},
   "source": [
    "### We will use linear SVM classifiers to select the best features and then train our SVM classifier model on those selected features.\n",
    "<strong> Remember to set the random_state to be able to reproduce the model ! </strong>\n",
    "\n",
    "1. For starters we will use equal weights for both classes (chocolate/non chocolate)\n",
    "2. Then we will try to select a more appropriate model to take into account the fact that we have class imbalance in our dataset."
   ]
  },
  {
   "cell_type": "code",
   "execution_count": 84,
   "metadata": {},
   "outputs": [
    {
     "name": "stdout",
     "output_type": "stream",
     "text": [
      "[LibLinear]"
     ]
    },
    {
     "name": "stderr",
     "output_type": "stream",
     "text": [
      "/home/ko_st/.pyenv/versions/3.6.15/envs/Py3.6/lib/python3.6/site-packages/sklearn/utils/validation.py:63: DataConversionWarning: A column-vector y was passed when a 1d array was expected. Please change the shape of y to (n_samples, ), for example using ravel().\n",
      "  return f(*args, **kwargs)\n"
     ]
    },
    {
     "data": {
      "text/plain": [
       "SelectFromModel(estimator=LinearSVC(C=0.04, random_state=0, verbose=1),\n",
       "                max_features=11)"
      ]
     },
     "execution_count": 84,
     "metadata": {},
     "output_type": "execute_result"
    }
   ],
   "source": [
    "from sklearn.svm import LinearSVC\n",
    "\n",
    "mod = SelectFromModel(estimator=LinearSVC(C=0.04,verbose=1,random_state=0),max_features=len(x_train.columns))\n",
    "mod.fit(x_train,y_train)\n"
   ]
  },
  {
   "cell_type": "code",
   "execution_count": 85,
   "metadata": {},
   "outputs": [
    {
     "name": "stdout",
     "output_type": "stream",
     "text": [
      "Coefficients : [[-0.6376343   0.06463582  0.16556075 -0.00399969  0.12511296 -0.14872021\n",
      "   0.30523837 -0.12066046 -0.00324603  0.16996836  0.31769383]]\n",
      "\n",
      "The returned features are : Index(['fruity', 'bar', 'winpercent'], dtype='object')\n",
      "\n",
      "The returned indices are : [ 0  6 10]\n"
     ]
    }
   ],
   "source": [
    "print(f\"Coefficients : {mod.estimator_.coef_}\\n\")\n",
    "\n",
    "print(f\"The returned features are : {x_train.columns[mod.get_support()]}\\n\")\n",
    "print(f\"The returned indices are : {mod.get_support(indices=True)}\")"
   ]
  },
  {
   "cell_type": "code",
   "execution_count": 86,
   "metadata": {},
   "outputs": [
    {
     "data": {
      "text/plain": [
       "['fruity', 'bar', 'winpercent']"
      ]
     },
     "execution_count": 86,
     "metadata": {},
     "output_type": "execute_result"
    }
   ],
   "source": [
    "selected_features = list(x_train.columns[mod.get_support()])\n",
    "selected_features"
   ]
  },
  {
   "cell_type": "code",
   "execution_count": 87,
   "metadata": {},
   "outputs": [],
   "source": [
    "pd.Series(selected_features).to_csv('selected_features.csv',index=False)"
   ]
  },
  {
   "cell_type": "code",
   "execution_count": 88,
   "metadata": {},
   "outputs": [
    {
     "data": {
      "text/plain": [
       "['fruity', 'bar', 'winpercent']"
      ]
     },
     "execution_count": 88,
     "metadata": {},
     "output_type": "execute_result"
    }
   ],
   "source": [
    "features = pd.read_csv('selected_features.csv')['0'].to_list()\n",
    "features\n"
   ]
  },
  {
   "cell_type": "code",
   "execution_count": 89,
   "metadata": {},
   "outputs": [
    {
     "data": {
      "text/html": [
       "<div>\n",
       "<style scoped>\n",
       "    .dataframe tbody tr th:only-of-type {\n",
       "        vertical-align: middle;\n",
       "    }\n",
       "\n",
       "    .dataframe tbody tr th {\n",
       "        vertical-align: top;\n",
       "    }\n",
       "\n",
       "    .dataframe thead th {\n",
       "        text-align: right;\n",
       "    }\n",
       "</style>\n",
       "<table border=\"1\" class=\"dataframe\">\n",
       "  <thead>\n",
       "    <tr style=\"text-align: right;\">\n",
       "      <th></th>\n",
       "      <th>fruity</th>\n",
       "      <th>bar</th>\n",
       "      <th>winpercent</th>\n",
       "    </tr>\n",
       "  </thead>\n",
       "  <tbody>\n",
       "    <tr>\n",
       "      <th>0</th>\n",
       "      <td>0.0</td>\n",
       "      <td>0.0</td>\n",
       "      <td>0.134388</td>\n",
       "    </tr>\n",
       "    <tr>\n",
       "      <th>1</th>\n",
       "      <td>0.0</td>\n",
       "      <td>0.0</td>\n",
       "      <td>0.733322</td>\n",
       "    </tr>\n",
       "    <tr>\n",
       "      <th>2</th>\n",
       "      <td>0.0</td>\n",
       "      <td>1.0</td>\n",
       "      <td>0.557461</td>\n",
       "    </tr>\n",
       "    <tr>\n",
       "      <th>3</th>\n",
       "      <td>1.0</td>\n",
       "      <td>0.0</td>\n",
       "      <td>0.568434</td>\n",
       "    </tr>\n",
       "    <tr>\n",
       "      <th>4</th>\n",
       "      <td>1.0</td>\n",
       "      <td>0.0</td>\n",
       "      <td>0.223635</td>\n",
       "    </tr>\n",
       "  </tbody>\n",
       "</table>\n",
       "</div>"
      ],
      "text/plain": [
       "   fruity  bar  winpercent\n",
       "0     0.0  0.0    0.134388\n",
       "1     0.0  0.0    0.733322\n",
       "2     0.0  1.0    0.557461\n",
       "3     1.0  0.0    0.568434\n",
       "4     1.0  0.0    0.223635"
      ]
     },
     "execution_count": 89,
     "metadata": {},
     "output_type": "execute_result"
    }
   ],
   "source": [
    "x_train = x_train[features]\n",
    "x_test = x_test[features]\n",
    "x_train.head()"
   ]
  },
  {
   "cell_type": "markdown",
   "metadata": {},
   "source": [
    "### Train the Model "
   ]
  },
  {
   "cell_type": "code",
   "execution_count": 90,
   "metadata": {},
   "outputs": [
    {
     "name": "stdout",
     "output_type": "stream",
     "text": [
      "[LibLinear]"
     ]
    },
    {
     "name": "stderr",
     "output_type": "stream",
     "text": [
      "/home/ko_st/.pyenv/versions/3.6.15/envs/Py3.6/lib/python3.6/site-packages/sklearn/utils/validation.py:63: DataConversionWarning: A column-vector y was passed when a 1d array was expected. Please change the shape of y to (n_samples, ), for example using ravel().\n",
      "  return f(*args, **kwargs)\n"
     ]
    },
    {
     "data": {
      "text/plain": [
       "LinearSVC(C=0.04, random_state=0, verbose=1)"
      ]
     },
     "execution_count": 90,
     "metadata": {},
     "output_type": "execute_result"
    }
   ],
   "source": [
    "svm_model = LinearSVC(C=0.04,verbose=1,random_state=0)\n",
    "svm_model.fit(x_train,y_train)\n"
   ]
  },
  {
   "cell_type": "code",
   "execution_count": 91,
   "metadata": {},
   "outputs": [
    {
     "data": {
      "text/plain": [
       "array([[-0.71462595,  0.42055331,  0.37957564]])"
      ]
     },
     "execution_count": 91,
     "metadata": {},
     "output_type": "execute_result"
    }
   ],
   "source": [
    "svm_model.coef_"
   ]
  },
  {
   "cell_type": "markdown",
   "metadata": {},
   "source": [
    "Evaluate the Model on training set"
   ]
  },
  {
   "cell_type": "code",
   "execution_count": 96,
   "metadata": {},
   "outputs": [],
   "source": [
    "y_pred = svm_model.predict(x_train)"
   ]
  },
  {
   "cell_type": "code",
   "execution_count": 100,
   "metadata": {},
   "outputs": [
    {
     "data": {
      "image/png": "[encoded data removed]",
      "text/plain": [
       "<Figure size 432x288 with 2 Axes>"
      ]
     },
     "metadata": {
      "needs_background": "light"
     },
     "output_type": "display_data"
    }
   ],
   "source": [
    "cm = confusion_matrix(y_train,y_pred,normalize=None)\n",
    "\n",
    "ConfusionMatrixDisplay(confusion_matrix=cm,display_labels=svm_model.classes_).plot()\n",
    "plt.show()"
   ]
  },
  {
   "cell_type": "markdown",
   "metadata": {},
   "source": [
    "Let's evaluate the Model using the <u>precision,recall,fscore</u>:  \n"
   ]
  },
  {
   "cell_type": "code",
   "execution_count": 104,
   "metadata": {},
   "outputs": [
    {
     "name": "stdout",
     "output_type": "stream",
     "text": [
      "(array([0.94285714, 0.84848485]), array([0.86842105, 0.93333333]), array([0.90410959, 0.88888889]), array([38, 30]))\n"
     ]
    }
   ],
   "source": [
    "print(precision_recall_fscore_support(y_train,y_pred,labels=svm_model.classes_))"
   ]
  }
 ],
 "metadata": {
  "kernelspec": {
   "display_name": "Py3.6",
   "language": "python",
   "name": "python3"
  },
  "language_info": {
   "codemirror_mode": {
    "name": "ipython",
    "version": 3
   },
   "file_extension": ".py",
   "mimetype": "text/x-python",
   "name": "python",
   "nbconvert_exporter": "python",
   "pygments_lexer": "ipython3",
   "version": "3.6.15"
  },
  "orig_nbformat": 4
 },
 "nbformat": 4,
 "nbformat_minor": 2
}
